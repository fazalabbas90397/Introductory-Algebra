{
 "cells": [
  {
   "cell_type": "markdown",
   "id": "f0c11482",
   "metadata": {},
   "source": [
    "<font style=\"font-size:28px;\" align=\"left\"><b>Educational Open Sourced Notebook: Algebra</b></font>\n",
    "<br>\n",
    "prepared by Ali Abbas Wazir, Zain Abbas Wazir, Soha Ejaz, Zohair Ali Vakil, Ibrahim Munqaz<br> 
Junior Internship Batch-4 Marketing And Digital Media <br>
other contact info\n",
    "<br><br>"
   ]
  },
  {
   "cell_type": "markdown",
   "id": "cf94e0aa",
   "metadata": {},
   "source": [
    "<h1 align=\"left\" style=\"color: #cd7f32;\"> Contents </h1>"
   ]
  },
  {
   "cell_type": "markdown",
   "id": "04a3621c",
   "metadata": {},
   "source": [
    "### 1- Quadratic Equations\n",
    "\n",
    "[Real Roots](Real_Roots.ipynb) &nbsp;|&nbsp;\n",
    "[Real_and_distinct_roots](Real_and_distinct_roots.ipynb) &nbsp;|&nbsp;\n",
    "[Complex_roots](Complex_roots.ipynb) &nbsp;|&nbsp;\n",
    "\n",
    "\n",
    "\n",
    "\n",
    "\n",
    "\n",
    "\n",
    "\n",
    "\n",
    "\n",
    "\n",
    "\n",
    "\n",
    "### 2- Simultaneous Equations\n",
    "\n",
    "[Simultaneous_Equations](sub_topic_2a.ipynb) &nbsp;|&nbsp;\n",
    "[Elimination Method](EliminationMethod.ipynb) &nbsp;|&nbsp;\n",
    "[Substitution Method](SubstitutionMethod.ipynb) &nbsp;|&nbsp;\n",
    "\n",
    "\n",
    "\n",
    "\n"
   ]
  },
  {
   "cell_type": "code",
   "execution_count": null,
   "id": "44220485",
   "metadata": {},
   "outputs": [],
   "source": []
  }
 ],
 "metadata": {
  "kernelspec": {
   "display_name": "Python 3 (ipykernel)",
   "language": "python",
   "name": "python3"
  },
  "language_info": {
   "codemirror_mode": {
    "name": "ipython",
    "version": 3
   },
   "file_extension": ".py",
   "mimetype": "text/x-python",
   "name": "python",
   "nbconvert_exporter": "python",
   "pygments_lexer": "ipython3",
   "version": "3.11.3"
  }
 },
 "nbformat": 4,
 "nbformat_minor": 5
}
