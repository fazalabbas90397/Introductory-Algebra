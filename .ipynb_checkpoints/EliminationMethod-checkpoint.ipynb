{
 "cells": [
  {
   "cell_type": "markdown",
   "id": "b3cead8e",
   "metadata": {},
   "source": [
    "# Solving Linear Equations Using Elimination Method <br>\n",
    "## Example No.1\n",
    "$ 2x - y = 5 $ &nbsp; &nbsp; &nbsp; --(1)<br>\n",
    "$ y - 4x = 1 $ &nbsp;&nbsp;&nbsp; --(2)"
   ]
  },
  {
   "cell_type": "markdown",
   "id": "95489bc6",
   "metadata": {},
   "source": [
    "### Solution:\n",
    "<i>To solve $2x - y = 5$ and $y - 4x = 1$, we will use the elimination method as it is easy to eliminate the variable y by adding the two equations</i>\n",
    "<br>\n",
    "<i><b>Adding (1) and (2), we get</b></i><br>\n",
    "$(2x - y) + (y - 4x) = 5 + 1$<br>\n",
    "$2x - y + y - 4x = 6$ <br> \n",
    "$-2x = 6$<br>\n",
    "$x = -6/2$<br>\n",
    "<div style=\"border: 1px solid black; padding: 5px; display: inline-block;\">\n",
    "$x= -3$\n",
    "</div>    \n",
    "<br><i><b>Now Substitute this value of x in (1)</b></i><br>\n",
    "$2(-3) - y = 5$<br>\n",
    "$ -6 - y = 5$<br>\n",
    "$y = -6 - 5$<br>\n",
    "<div style=\"border: 1px solid black; padding: 5px; display: inline-block;\">\n",
    "$y= -11$</div>\n"
   ]
  },
  {
   "cell_type": "markdown",
   "id": "d41bba63",
   "metadata": {},
   "source": [
    "### Answer: <br>\n",
    "<b><i>Solution of simultaneous equations</b></i><br> $2x - y = 5$ and $y - 4x = 1$\n",
    "<br>is\n",
    "<div style=\"border: 1px solid black; padding: 5px; display: inline-block;\">\n",
    " $x = -3$ </div> \n",
    " and \n",
    " <div style=\"border: 1px solid black; padding: 5px; display: inline-block;\">\n",
    "$y = -11$</div>"
   ]
  },
  {
   "cell_type": "markdown",
   "id": "4e9cad24",
   "metadata": {},
   "source": [
    "## Example No.2\n",
    "\n",
    "<br>$4a + 5b = 12$\n",
    "\n",
    "<br>$3a – 5b = 9$\n",
    "\n",
    "### Solution:\n",
    "\n",
    "<br>The two given equations are\n",
    "\n",
    "$4a + 5b = 12$ …….(1)\n",
    "\n",
    "<br>$3a – 5b = 9$……….(2)\n",
    "\n",
    "<br>Step 1: The coefficient of variable ’b’ is equal and has the opposite sign to the other equation. Add equations 1 and 2 to eliminate the variable ‘b’.\n",
    "\n",
    "<br><b>Step 2</b>: The like terms will be added.\n",
    "\n",
    "$(4a+3a) +(5b – 5b) = 12 + 9$\n",
    "\n",
    "<br>$7a = 21$\n",
    "\n",
    "<br><b>Step 3<b/>: Bring the coefficient of a to the R.H.S of the equation\n",
    "\n",
    "$a = 21/ 7$\n",
    "\n",
    "<br><b>Step 4</b>: Dividing the R.H. S of the equation, we get a = 3\n",
    "\n",
    "<br><b>Step 5</b>: Now, substitute the value a=3 in the equation (1), it becomes\n",
    "\n",
    "$4(3) + 5b = 12$,\n",
    "\n",
    "$12 + 5b = 12$\n",
    "\n",
    "$5b = 12-12$\n",
    "\n",
    "$5b =0$\n",
    "\n",
    "$b = 0/5 = 0$\n",
    "\n",
    "<br><b>Step 6</b>: Hence, the solution for the given simultaneous equations is $a = 3$ and $b = 0$."
   ]
  }
 ],
 "metadata": {
  "kernelspec": {
   "display_name": "Python 3 (ipykernel)",
   "language": "python",
   "name": "python3"
  },
  "language_info": {
   "codemirror_mode": {
    "name": "ipython",
    "version": 3
   },
   "file_extension": ".py",
   "mimetype": "text/x-python",
   "name": "python",
   "nbconvert_exporter": "python",
   "pygments_lexer": "ipython3",
   "version": "3.11.3"
  }
 },
 "nbformat": 4,
 "nbformat_minor": 5
}
