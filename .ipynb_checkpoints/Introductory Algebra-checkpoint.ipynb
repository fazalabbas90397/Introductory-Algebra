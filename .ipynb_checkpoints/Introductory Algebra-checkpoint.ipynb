{
 "cells": [
  {
   "cell_type": "markdown",
   "id": "f0c11482",
   "metadata": {},
   "source": [
    "<font style=\"font-size:28px;\" align=\"left\"><b>Introductory Algebra</b></font>\n",
    "<br>\n",
    "prepared by Write your names, batch and other contact info\n",
    "<br><br>"
   ]
  },
  {
   "cell_type": "markdown",
   "id": "cf94e0aa",
   "metadata": {},
   "source": [
    "<h1 align=\"left\" style=\"color: #cd7f32;\"> Contents </h1>"
   ]
  },
  {
   "cell_type": "markdown",
   "id": "04a3621c",
   "metadata": {},
   "source": [
    "### 1- Quadratic Equations\n",
    "\n",
    "[Real Roots](Real_Roots.ipynb) &nbsp;|&nbsp;\n",
    "[Real and different roots](Real_and_different_roots.ipynb) &nbsp;|&nbsp;\n",
    "[Complex roots](Complex_roots.ipynb) &nbsp;|&nbsp;\n",
    "\n",
    "\n",
    "\n",
    "### 2- Simultaneous Equations\n",
    "\n",
    "[Simultaneous_Equations](Simultaneous_Equations.ipynb) &nbsp;|&nbsp;\n",
    "[sub topic 2b](sub_topic_2b.ipynb) &nbsp;|&nbsp;\n",
    "[sub topic 2c](sub_topic_2c.ipynb) &nbsp;|&nbsp;\n",
    "\n",
    "\n",
    "\n",
    "\n"
   ]
  }
 ],
 "metadata": {
  "kernelspec": {
   "display_name": "Python 3 (ipykernel)",
   "language": "python",
   "name": "python3"
  },
  "language_info": {
   "codemirror_mode": {
    "name": "ipython",
    "version": 3
   },
   "file_extension": ".py",
   "mimetype": "text/x-python",
   "name": "python",
   "nbconvert_exporter": "python",
   "pygments_lexer": "ipython3",
   "version": "3.11.3"
  }
 },
 "nbformat": 4,
 "nbformat_minor": 5
}
