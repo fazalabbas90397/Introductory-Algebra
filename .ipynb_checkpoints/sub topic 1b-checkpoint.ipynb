{
 "cells": [
  {
   "cell_type": "markdown",
   "id": "a02ddf05",
   "metadata": {},
   "source": [
    "<font style=\"font-size:28px;\" align=\"left\"><b>Real and different roots</b></font>\n",
    "<br>\n",
    " When the discriminant of a quadratic equation is greater than , it has real and distinct roots.\n",
    " <br><br>"
   ]
  },
  {
   "cell_type": "code",
   "execution_count": 5,
   "id": "b22df019",
   "metadata": {},
   "outputs": [
    {
     "name": "stdout",
     "output_type": "stream",
     "text": [
      "Enter the value of a: 1\n",
      "Enter the value of b: -5\n",
      "Enter the value of c: 6\n",
      "The roots are: (3+0j) and (2+0j)\n"
     ]
    }
   ],
   "source": [
    "\n",
    "import cmath\n",
    "\n",
    "# Get the values of a, b, and c\n",
    "a = float(input(\"Enter the value of a: \"))\n",
    "b = float(input(\"Enter the value of b: \"))\n",
    "c = float(input(\"Enter the value of c: \"))\n",
    "\n",
    "# Calculate the discriminant\n",
    "discriminant = (b**2) - (4*a*c)\n",
    "\n",
    "# Check if the discriminant is non-negative\n",
    "if discriminant >= 0:\n",
    "    # Calculate the roots\n",
    "    root1 = (-b + cmath.sqrt(discriminant)) / (2*a)\n",
    "    root2 = (-b - cmath.sqrt(discriminant)) / (2*a)\n",
    "\n",
    "    # Print the roots\n",
    "    print(\"The roots are:\", root1, \"and\", root2)\n",
    "else:\n",
    "    print(\"The roots are complex.\")\n"
   ]
  }
 ],
 "metadata": {
  "kernelspec": {
   "display_name": "Python 3 (ipykernel)",
   "language": "python",
   "name": "python3"
  },
  "language_info": {
   "codemirror_mode": {
    "name": "ipython",
    "version": 3
   },
   "file_extension": ".py",
   "mimetype": "text/x-python",
   "name": "python",
   "nbconvert_exporter": "python",
   "pygments_lexer": "ipython3",
   "version": "3.11.3"
  }
 },
 "nbformat": 4,
 "nbformat_minor": 5
}
