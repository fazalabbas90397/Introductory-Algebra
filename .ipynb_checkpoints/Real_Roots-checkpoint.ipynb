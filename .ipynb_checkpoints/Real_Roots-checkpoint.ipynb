{
 "cells": [
  {
   "cell_type": "markdown",
   "id": "039329c0",
   "metadata": {},
   "source": [
    "<font style=\"font-size:28px;\" align=\"left\"><b>Real Roots</b></font>\n",
    "<br>\n",
    "A real root is a solution to an equation which is also a real number.\n",
    "<br><br>"
   ]
  },
  {
   "cell_type": "code",
   "execution_count": 5,
   "id": "ffc4b78b",
   "metadata": {},
   "outputs": [
    {
     "name": "stdout",
     "output_type": "stream",
     "text": [
      "Enter the value of a: 1\n",
      "Enter the value of b: 1\n",
      "Enter the value of c: 1\n",
      "There are no real roots\n"
     ]
    }
   ],
   "source": [
    "# import math\n",
    "\n",
    "def solve_quadratic(a, b, c):\n",
    "    # Calculate the discriminant\n",
    "    discriminant = b**2 - 4*a*c\n",
    "\n",
    "    # Check for real roots\n",
    "    if discriminant < 0:\n",
    "        print(\"There are no real roots\")\n",
    "    elif discriminant == 0:\n",
    "        root = -b / (2*a)\n",
    "        print(\"There is one real root: \", root)\n",
    "    else:\n",
    "        root_1 = (-b + math.sqrt(discriminant)) / (2*a)\n",
    "        root_2 = (-b - math.sqrt(discriminant)) / (2*a)\n",
    "        print(\"There are two real roots:\", root_1, \"and\", root_2)\n",
    "\n",
    "# Get user input\n",
    "a = float(input(\"Enter the value of a: \"))\n",
    "b = float(input(\"Enter the value of b: \"))\n",
    "c = float(input(\"Enter the value of c: \"))\n",
    "\n",
    "# Call the solve_quadratic function\n",
    "solve_quadratic(a, b, c)\n",
    "\n"
   ]
  }
 ],
 "metadata": {
  "kernelspec": {
   "display_name": "Python 3 (ipykernel)",
   "language": "python",
   "name": "python3"
  },
  "language_info": {
   "codemirror_mode": {
    "name": "ipython",
    "version": 3
   },
   "file_extension": ".py",
   "mimetype": "text/x-python",
   "name": "python",
   "nbconvert_exporter": "python",
   "pygments_lexer": "ipython3",
   "version": "3.11.3"
  }
 },
 "nbformat": 4,
 "nbformat_minor": 5
}
