{
 "cells": [
  {
   "cell_type": "code",
   "execution_count": 2,
   "id": "e9a4c9df",
   "metadata": {},
   "outputs": [
    {
     "name": "stdout",
     "output_type": "stream",
     "text": [
      "\u001b[1m\u001b[36mLinear Equations Solver\n",
      "\n",
      "Enter the coefficients of the first equation (ax + by = c):\n",
      "Enter the value of 'a': 1\n",
      "Enter the value of 'b': -4\n",
      "Enter the value of 'c': 1\n",
      "\n",
      "Enter the coefficients of the second equation (ax + by = c):\n",
      "Enter the value of 'a': 3\n",
      "Enter the value of 'b': 2\n",
      "Enter the value of 'c': 6\n",
      "\n",
      "Solution: x = 1.8571428571428572 , y = 0.21428571428571427\n"
     ]
    }
   ],
   "source": [
    "from colorama import init, Fore, Style\n",
    "\n",
    "def solve_linear_equations():\n",
    "    init(autoreset=True)\n",
    "\n",
    "    print(Fore.YELLOW + \"Enter the coefficients of the first equation (ax + by = c):\")\n",
    "    a1 = float(input(\"Enter the value of 'a': \"))\n",
    "    b1 = float(input(\"Enter the value of 'b': \"))\n",
    "    c1 = float(input(\"Enter the value of 'c': \"))\n",
    "\n",
    "    print(Fore.YELLOW + \"\\nEnter the coefficients of the second equation (ax + by = c):\")\n",
    "    a2 = float(input(\"Enter the value of 'a': \"))\n",
    "    b2 = float(input(\"Enter the value of 'b': \"))\n",
    "    c2 = float(input(\"Enter the value of 'c': \"))\n",
    "\n",
    "    # Calculate the determinant\n",
    "    determinant = a1 * b2 - a2 * b1\n",
    "\n",
    "    if determinant == 0:\n",
    "        # The system has no unique solution (parallel or coincident lines)\n",
    "        print(Fore.RED + \"\\nThe system of equations has no unique solution.\")\n",
    "        return None\n",
    "\n",
    "    # Calculate the values of x and y\n",
    "    x = (c1 * b2 - c2 * b1) / determinant\n",
    "    y = (a1 * c2 - a2 * c1) / determinant\n",
    "\n",
    "    print(Fore.GREEN + \"\\nSolution: x =\", x, \", y =\", y)\n",
    "    return x, y\n",
    "\n",
    "# Example usage\n",
    "print(Style.BRIGHT + Fore.CYAN + \"Linear Equations Solver\\n\")\n",
    "solutions = solve_linear_equations()\n"
   ]
  },
  {
   "cell_type": "code",
   "execution_count": null,
   "id": "74a5e3b7",
   "metadata": {},
   "outputs": [],
   "source": []
  },
  {
   "cell_type": "code",
   "execution_count": null,
   "id": "3149f18c",
   "metadata": {},
   "outputs": [],
   "source": []
  },
  {
   "cell_type": "code",
   "execution_count": null,
   "id": "9d693640",
   "metadata": {},
   "outputs": [],
   "source": []
  },
  {
   "cell_type": "code",
   "execution_count": null,
   "id": "c3e2e8eb",
   "metadata": {},
   "outputs": [],
   "source": []
  },
  {
   "cell_type": "code",
   "execution_count": null,
   "id": "46a8f355",
   "metadata": {},
   "outputs": [],
   "source": []
  },
  {
   "cell_type": "code",
   "execution_count": null,
   "id": "839db525",
   "metadata": {},
   "outputs": [],
   "source": []
  }
 ],
 "metadata": {
  "kernelspec": {
   "display_name": "Python 3 (ipykernel)",
   "language": "python",
   "name": "python3"
  },
  "language_info": {
   "codemirror_mode": {
    "name": "ipython",
    "version": 3
   },
   "file_extension": ".py",
   "mimetype": "text/x-python",
   "name": "python",
   "nbconvert_exporter": "python",
   "pygments_lexer": "ipython3",
   "version": "3.11.3"
  }
 },
 "nbformat": 4,
 "nbformat_minor": 5
}
