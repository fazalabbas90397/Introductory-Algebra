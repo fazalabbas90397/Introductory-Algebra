{
 "cells": [
  {
   "cell_type": "markdown",
   "id": "07321de1",
   "metadata": {},
   "source": [
    "<font style=\"font-size:28px;\" align=\"left\"><b>Complex roots</b></font>\n",
    "<br>\n",
    "Complex roots are the imaginary root of quadratic or polynomial functions.\n",
    " <br><br>"
   ]
  },
  {
   "cell_type": "code",
   "execution_count": 3,
   "id": "78208b55",
   "metadata": {},
   "outputs": [
    {
     "name": "stdout",
     "output_type": "stream",
     "text": [
      "Enter coefficient a: 1\n",
      "Enter coefficient b: 1\n",
      "Enter coefficient c: 1\n",
      "Root 1: (-0.5+0.8660254037844386j)\n",
      "Root 2: (-0.5-0.8660254037844386j)\n"
     ]
    }
   ],
   "source": [
    "import cmath\n",
    "\n",
    "# Function to solve quadratic equation and return the roots\n",
    "def solve_quadratic(a, b, c):\n",
    "    # Calculate the discriminant\n",
    "    discriminant = (b ** 2) - (4 * a * c)\n",
    "\n",
    "    # Check the nature of the roots\n",
    "    if discriminant > 0:\n",
    "        # Real and distinct roots\n",
    "        root1 = (-b + cmath.sqrt(discriminant)) / (2 * a)\n",
    "        root2 = (-b - cmath.sqrt(discriminant)) / (2 * a)\n",
    "        return root1, root2\n",
    "    elif discriminant == 0:\n",
    "        # Real and equal roots\n",
    "        root = -b / (2 * a)\n",
    "        return root, root\n",
    "    else:\n",
    "        # Complex roots\n",
    "        real_part = -b / (2 * a)\n",
    "        imag_part = cmath.sqrt(abs(discriminant)) / (2 * a)\n",
    "        root1 = complex(real_part, imag_part)\n",
    "        root2 = complex(real_part, -imag_part)\n",
    "        return root1, root2\n",
    "\n",
    "# Get input coefficients from the user\n",
    "a = float(input(\"Enter coefficient a: \"))\n",
    "b = float(input(\"Enter coefficient b: \"))\n",
    "c = float(input(\"Enter coefficient c: \"))\n",
    "\n",
    "# Call the solve_quadratic function and get the roots\n",
    "root1, root2 = solve_quadratic(a, b, c)\n",
    "\n",
    "# Print the roots\n",
    "print(\"Root 1:\", root1)\n",
    "print(\"Root 2:\", root2)\n"
   ]
  }
 ],
 "metadata": {
  "kernelspec": {
   "display_name": "Python 3 (ipykernel)",
   "language": "python",
   "name": "python3"
  },
  "language_info": {
   "codemirror_mode": {
    "name": "ipython",
    "version": 3
   },
   "file_extension": ".py",
   "mimetype": "text/x-python",
   "name": "python",
   "nbconvert_exporter": "python",
   "pygments_lexer": "ipython3",
   "version": "3.11.3"
  }
 },
 "nbformat": 4,
 "nbformat_minor": 5
}
