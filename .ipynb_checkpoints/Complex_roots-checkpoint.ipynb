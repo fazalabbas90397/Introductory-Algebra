{
 "cells": [
  {
   "cell_type": "markdown",
   "id": "07321de1",
   "metadata": {},
   "source": [
    "\n",
    "\n",
    " \n",
    " # Complex Roots\n",
    "\n",
    "## Concept of Complex Roots\n",
    "\n",
    "When solving quadratic equations, we often encounter situations where the discriminant is negative, which means that we cannot solve the equation using real numbers. In such cases, we introduce the concept of complex roots. Complex roots, also known as imaginary roots, are solutions to quadratic equations in which the discriminant is negative. They are expressed in terms of the imaginary unit \"i,\" where i²=-1.\n",
    "\n",
    "## Description\n",
    "\n",
    "Complex roots always occur in conjugate pairs. This means that if we have one complex root, say a+bi, then its conjugate pair is a-bi. Complex roots are important in many areas of mathematics, science, and engineering.\n",
    "\n",
    "## Example Equations\n",
    "\n",
    "Let's consider an example of a quadratic equation with complex roots:\n",
    "\n",
    "```\n",
    "x²-6x+13=0\n",
    "\n",
    "```\n",
    "Here, a=1, b=-6, c=13. The discriminant is (-6)²-4(1)(13)=-32, which is negative.\n",
    "\n",
    "We can find the complex roots as follows:\n",
    "\n",
    "```\n",
    "x = (-b ± √(-32))/2a\n",
    "  = (6 ± 4i√2)/2\n",
    "  = 3 ± 2i√2\n",
    "```\n",
    "\n",
    "Therefore, the complex roots are 3 + 2i√2 and 3 - 2i√2.\n",
    "\n",
    "In conclusion, complex roots are an important concept in mathematics, and they are essential for solving quadratic equations where the discriminant is negative. Remember always to use conjugate pairs when using complex roots in your solutions."
   ]
  },
  {
   "cell_type": "code",
   "execution_count": 1,
   "id": "78208b55",
   "metadata": {},
   "outputs": [
    {
     "name": "stdout",
     "output_type": "stream",
     "text": [
      "Enter coefficient a: 2\n",
      "Enter coefficient b: 5\n",
      "Enter coefficient c: 0\n",
      "Root 1: 0j\n",
      "Root 2: (-2.5+0j)\n"
     ]
    }
   ],
   "source": [
    "import cmath\n",
    "\n",
    "# Function to solve quadratic equation and return the roots\n",
    "def solve_quadratic(a, b, c):\n",
    "    # Calculate the discriminant\n",
    "    discriminant = (b ** 2) - (4 * a * c)\n",
    "\n",
    "    # Check the nature of the roots\n",
    "    if discriminant > 0:\n",
    "        # Real and distinct roots\n",
    "        root1 = (-b + cmath.sqrt(discriminant)) / (2 * a)\n",
    "        root2 = (-b - cmath.sqrt(discriminant)) / (2 * a)\n",
    "        return root1, root2\n",
    "    elif discriminant == 0:\n",
    "        # Real and equal roots\n",
    "        root = -b / (2 * a)\n",
    "        return root, root\n",
    "    else:\n",
    "        # Complex roots\n",
    "        real_part = -b / (2 * a)\n",
    "        imag_part = cmath.sqrt(abs(discriminant)) / (2 * a)\n",
    "        root1 = complex(real_part, imag_part)\n",
    "        root2 = complex(real_part, -imag_part)\n",
    "        return root1, root2\n",
    "\n",
    "# Get input coefficients from the user\n",
    "a = float(input(\"Enter coefficient a: \"))\n",
    "b = float(input(\"Enter coefficient b: \"))\n",
    "c = float(input(\"Enter coefficient c: \"))\n",
    "\n",
    "# Call the solve_quadratic function and get the roots\n",
    "root1, root2 = solve_quadratic(a, b, c)\n",
    "\n",
    "# Print the roots\n",
    "print(\"Root 1:\", root1)\n",
    "print(\"Root 2:\", root2)\n"
   ]
  }
 ],
 "metadata": {
  "kernelspec": {
   "display_name": "Python 3 (ipykernel)",
   "language": "python",
   "name": "python3"
  },
  "language_info": {
   "codemirror_mode": {
    "name": "ipython",
    "version": 3
   },
   "file_extension": ".py",
   "mimetype": "text/x-python",
   "name": "python",
   "nbconvert_exporter": "python",
   "pygments_lexer": "ipython3",
   "version": "3.11.3"
  }
 },
 "nbformat": 4,
 "nbformat_minor": 5
}
