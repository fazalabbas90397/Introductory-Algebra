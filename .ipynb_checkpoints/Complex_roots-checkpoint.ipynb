{
 "cells": [
  {
   "cell_type": "markdown",
   "id": "32e8ff5a",
   "metadata": {},
   "source": [
    "\n",
    "\n",
    " \n",
    " # Complex Roots\n",
    "\n",
    "## Concept of Complex Roots\n",
    "\n",
    "When solving quadratic equations, we often encounter situations where the discriminant is negative, which means that we cannot solve the equation using real numbers. In such cases, we introduce the concept of complex roots. Complex roots, also known as imaginary roots, are solutions to quadratic equations in which the discriminant is negative. They are expressed in terms of the imaginary unit \"i,\" where i²=-1.\n",
    "\n",
    "## Description\n",
    "\n",
    "Complex roots always occur in conjugate pairs. This means that if we have one complex root, say a+bi, then its conjugate pair is a-bi. Complex roots are important in many areas of mathematics, science, and engineering.\n",
    "\n",
    "## Example Equations\n",
    "\n",
    "Let's consider an example of a quadratic equation with complex roots:\n",
    "\n",
    "```\n",
    "x²-6x+13=0\n",
    "\n",
    "```\n",
    "Here, a=1, b=-6, c=13. The discriminant is (-6)²-4(1)(13)=-32, which is negative.\n",
    "\n",
    "We can find the complex roots as follows:\n",
    "\n",
    "```\n",
    "x = (-b ± √(-32))/2a\n",
    "  = (6 ± 4i√2)/2\n",
    "  = 3 ± 2i√2\n",
    "```\n",
    "\n",
    "Therefore, the complex roots are 3 + 2i√2 and 3 - 2i√2.\n",
    "\n",
    "In conclusion, complex roots are an important concept in mathematics, and they are essential for solving quadratic equations where the discriminant is negative. Remember always to use conjugate pairs when using complex roots in your solutions."
   ]
  },
  {
   "cell_type": "code",
   "execution_count": 7,
   "id": "12bc83fa",
   "metadata": {},
   "outputs": [
    {
     "name": "stdout",
     "output_type": "stream",
     "text": [
      "Enter the value of a: 1\n",
      "Enter the value of b: 1\n",
      "Enter the value of c: 1\n",
      "\u001b[2m\u001b[34mComplex roots:\u001b[0m\n",
      "\u001b[2m\u001b[34m(-0.5-0.8660254037844386j)\u001b[0m \u001b[2m\u001b[34m(-0.5+0.8660254037844386j)\u001b[0m\n"
     ]
    }
   ],
   "source": [
    "# import cmath\n",
    "from termcolor import colored\n",
    "\n",
    "def solveQuadratic(a, b, c):\n",
    "    d = (b**2) - (4*a*c)\n",
    "    if d < 0:\n",
    "        root1 = (-b-cmath.sqrt(d))/(2*a)\n",
    "        root2 = (-b+cmath.sqrt(d))/(2*a)\n",
    "        print(colored('Complex roots:', 'blue', attrs=['dark']))\n",
    "        print(colored(root1, 'blue', attrs=['dark']), colored(root2, 'blue', attrs=['dark']))\n",
    "    elif d == 0:\n",
    "        root = (-b)/(2*a)\n",
    "        print(colored('Real and same roots:', 'blue', attrs=['dark']))\n",
    "        print(colored(root, 'blue', attrs=['dark']))\n",
    "    else:\n",
    "        root1 = (-b+cmath.sqrt(d))/(2*a)\n",
    "        root2 = (-b-cmath.sqrt(d))/(2*a)\n",
    "        print(colored('Real and different roots:', 'blue', attrs=['dark']))\n",
    "        print(colored(root1, 'blue', attrs=['dark']), colored(root2, 'blue', attrs=['dark']))\n",
    "\n",
    "a = float(input(colored(\"Enter the value of a: \", 'blue', attrs=['dark'])))\n",
    "b = float(input(colored(\"Enter the value of b: \", 'blue', attrs=['dark'])))\n",
    "c = float(input(colored(\"Enter the value of c: \", 'blue', attrs=['dark'])))\n",
    "\n",
    "solveQuadratic(a, b, c)\n"
   ]
  }
 ],
 "metadata": {
  "kernelspec": {
   "display_name": "Python 3 (ipykernel)",
   "language": "python",
   "name": "python3"
  },
  "language_info": {
   "codemirror_mode": {
    "name": "ipython",
    "version": 3
   },
   "file_extension": ".py",
   "mimetype": "text/x-python",
   "name": "python",
   "nbconvert_exporter": "python",
   "pygments_lexer": "ipython3",
   "version": "3.11.3"
  }
 },
 "nbformat": 4,
 "nbformat_minor": 5
}
