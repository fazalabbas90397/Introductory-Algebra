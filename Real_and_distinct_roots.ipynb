{
 "cells": [
  {
   "cell_type": "markdown",
   "id": "a02ddf05",
   "metadata": {},
   "source": [
    "# Real and Distinct Roots\n",
    "\n",
    "## Real and Distinct Roots Concept\n",
    "\n",
    "In a quadratic equation, if the discriminant (b²-4ac) is greater than 0, then the equation has two real and distinct roots. The discriminant is the part of the quadratic formula under the square root sign. If it is positive, the formula will have two real roots; if it is zero, the formula will have one real root; and if it is negative, the formula will have two complex roots. \n",
    "\n",
    "For an equation to have real and distinct roots, its discriminant must be a positive number. This means that the equation will have two real roots that are different from each other. The roots will be located on opposite sides of the x-axis, and the graph of the equation will intersect the x-axis at two different points.\n",
    "\n",
    "## Real and Distinct Roots Description\n",
    "\n",
    "Real and distinct roots are a type of solution to a quadratic equation, where the equation has two real roots that are different from each other. When a quadratic equation has real and distinct roots, it means that it has two real solutions that are not the same. The two solutions will also be different from each other, meaning that one can't be obtained from the other by any simple mathematical manipulation.\n",
    "\n",
    "\n",
    "\n",
    "### Example Equations\n",
    "\n",
    "To better understand the concept of real and distinct roots, let us look at some examples:\n",
    "\n",
    "1. $x^2 + 4x + 4 = 0$\n",
    "   * $a = 1$, $b = 4$, $c = 4$\n",
    "   * $r = b^2 - 4ac = 4^2 - 4(1)(4) = 0$\n",
    "   * This equation has one real and equal root, which is -2.\n",
    "\n",
    "2. $x^2 + x + 1 = 0$\n",
    "   * $a = 1$, $b = 1$, $c = 1$\n",
    "   * $r = b^2 - 4ac = 1^2 - 4(1)(1) = -3$\n",
    "   * This equation has two complex roots, which are $-\\frac{1}{2} + i\\frac{\\sqrt{3}}{2}$ and $-\\frac{1}{2} - i\\frac{\\sqrt{3}}{2}$.\n",
    "\n",
    "3. $2x^2 - 3x - 2 = 0$\n",
    "   * $a = 2$, $b = -3$, $c = -2$\n",
    "   * $r = b^2 - 4ac = (-3)^2 - 4(2)(-2) = 25$\n",
    "   * This equation has two real and distinct roots, which are 2 and $-\\frac{1}{2}$.\n",
    "\n",
    "In conclusion, understanding real and distinct roots is essential when dealing with quadratic equations. These roots can provide valuable information in various fields and can be used to solve complex problems."
   ]
  },
  {
   "cell_type": "code",
   "execution_count": 6,
   "id": "27d7c32e",
   "metadata": {},
   "outputs": [
    {
     "name": "stdout",
     "output_type": "stream",
     "text": [
      "Enter the value of a: 1\n",
      "Enter the value of b: 1\n",
      "Enter the value of c: 1\n",
      "\u001b[2m\u001b[34mComplex roots:\u001b[0m\n",
      "\u001b[2m\u001b[34m(-0.5-0.8660254037844386j)\u001b[0m \u001b[2m\u001b[34m(-0.5+0.8660254037844386j)\u001b[0m\n"
     ]
    }
   ],
   "source": [
    "# import cmath\n",
    "from termcolor import colored\n",
    "\n",
    "def solveQuadratic(a, b, c):\n",
    "    d = (b**2) - (4*a*c)\n",
    "    if d < 0:\n",
    "        root1 = (-b-cmath.sqrt(d))/(2*a)\n",
    "        root2 = (-b+cmath.sqrt(d))/(2*a)\n",
    "        print(colored('Complex roots:', 'blue', attrs=['dark']))\n",
    "        print(colored(root1, 'blue', attrs=['dark']), colored(root2, 'blue', attrs=['dark']))\n",
    "    elif d == 0:\n",
    "        root = (-b)/(2*a)\n",
    "        print(colored('Real and same roots:', 'blue', attrs=['dark']))\n",
    "        print(colored(root, 'blue', attrs=['dark']))\n",
    "    else:\n",
    "        root1 = (-b+cmath.sqrt(d))/(2*a)\n",
    "        root2 = (-b-cmath.sqrt(d))/(2*a)\n",
    "        print(colored('Real and different roots:', 'blue', attrs=['dark']))\n",
    "        print(colored(root1, 'blue', attrs=['dark']), colored(root2, 'blue', attrs=['dark']))\n",
    "\n",
    "a = float(input(colored(\"Enter the value of a: \", 'blue', attrs=['dark'])))\n",
    "b = float(input(colored(\"Enter the value of b: \", 'blue', attrs=['dark'])))\n",
    "c = float(input(colored(\"Enter the value of c: \", 'blue', attrs=['dark'])))\n",
    "\n",
    "solveQuadratic(a, b, c)\n"
   ]
  }
 ],
 "metadata": {
  "kernelspec": {
   "display_name": "Python 3 (ipykernel)",
   "language": "python",
   "name": "python3"
  },
  "language_info": {
   "codemirror_mode": {
    "name": "ipython",
    "version": 3
   },
   "file_extension": ".py",
   "mimetype": "text/x-python",
   "name": "python",
   "nbconvert_exporter": "python",
   "pygments_lexer": "ipython3",
   "version": "3.11.3"
  }
 },
 "nbformat": 4,
 "nbformat_minor": 5
}
