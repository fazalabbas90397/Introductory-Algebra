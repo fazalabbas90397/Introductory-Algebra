{
 "cells": [
  {
   "cell_type": "markdown",
   "id": "039329c0",
   "metadata": {},
   "source": [
    "\n",
    "## Real Roots\n",
    "\n",
    "### Concept of Real Roots\n",
    "\n",
    "In algebra and mathematics, real roots refer to the values of a variable that satisfy an equation, resulting in a value of zero. Real roots are often found by solving quadratic or higher-degree polynomial equations. The concept of real roots is essential for understanding the behavior and solutions of equations, as it helps us determine the points where an equation intersects or touches the x-axis.\n",
    "\n",
    "### Description of Real Roots\n",
    "\n",
    "Real roots can be positive, negative, or zero, depending on the equation and its coefficients. When solving an equation, it is crucial to identify the number and nature of its roots to gain insights into the nature of the relationship between variables.\n",
    "\n",
    "#### Finding Real Roots\n",
    "\n",
    "##### Factoring Method\n",
    "\n",
    "One way to find the real roots of an equation is by factoring it. If an equation can be factored into two or more distinct linear factors, then the real roots are the values that make each factor equal to zero. For instance, the equation x^2 - 3x - 28 = 0 can be factored into (x - 7)(x + 4) = 0. Therefore, the real roots of the equation are x = 7 and x = -4.\n",
    "\n",
    "##### Quadratic Formula Method\n",
    "\n",
    "Another way to find the real roots is by using the quadratic formula, which is:\n",
    "\n",
    "x = (-b ± √(b^2 - 4ac)) / (2a)\n",
    "\n",
    "This formula gives the solutions to a quadratic equation ax^2 + bx + c = 0, where a, b, and c are coefficients. To use the formula, simply plug in the values of a, b, and c and simplify the expression. For example, the equation 2x^2 + 5x - 3 = 0 can be solved using the quadratic formula as follows:\n",
    "\n",
    "**x = (-5 ± √(5^2 - 4 * 2 * (-3))) / (2 * 2)** \n",
    "\n",
    "**x = (-5 ± √49) / 4**\n",
    "\n",
    "**x = (-5 + 7) / 4 or x = (-5 - 7) / 4**\n",
    "\n",
    "By using the quadratic formula, we get the same answers as we did by factoring the equation. However, the quadratic formula can be used to solve equations that cannot be factored easily, making it a more general approach."
   ]
  },
  {
   "cell_type": "code",
   "execution_count": 9,
   "id": "ffc4b78b",
   "metadata": {},
   "outputs": [
    {
     "name": "stdout",
     "output_type": "stream",
     "text": [
      "Enter the value of a: 1\n",
      "Enter the value of b: 4\n",
      "Enter the value of c: 1\n",
      "\u001b[2m\u001b[34mReal and different roots:\u001b[0m\n",
      "\u001b[2m\u001b[34m(-0.2679491924311228+0j)\u001b[0m \u001b[2m\u001b[34m(-3.732050807568877+0j)\u001b[0m\n"
     ]
    }
   ],
   "source": [
    "\n",
    "import cmath\n",
    "from termcolor import colored\n",
    "\n",
    "def solveQuadratic(a, b, c):\n",
    "    d = (b**2) - (4*a*c)\n",
    "    if d < 0:\n",
    "        root1 = (-b-cmath.sqrt(d))/(2*a)\n",
    "        root2 = (-b+cmath.sqrt(d))/(2*a)\n",
    "        print(colored('Complex roots:', 'blue', attrs=['dark']))\n",
    "        print(colored(root1, 'blue', attrs=['dark']), colored(root2, 'blue', attrs=['dark']))\n",
    "    elif d == 0:\n",
    "        root = (-b)/(2*a)\n",
    "        print(colored('Real and same roots:', 'blue', attrs=['dark']))\n",
    "        print(colored(root, 'blue', attrs=['dark']))\n",
    "    else:\n",
    "        root1 = (-b+cmath.sqrt(d))/(2*a)\n",
    "        root2 = (-b-cmath.sqrt(d))/(2*a)\n",
    "        print(colored('Real and different roots:', 'blue', attrs=['dark']))\n",
    "        print(colored(root1, 'blue', attrs=['dark']), colored(root2, 'blue', attrs=['dark']))\n",
    "\n",
    "a = float(input(colored(\"Enter the value of a: \", 'blue', attrs=['dark'])))\n",
    "b = float(input(colored(\"Enter the value of b: \", 'blue', attrs=['dark'])))\n",
    "c = float(input(colored(\"Enter the value of c: \", 'blue', attrs=['dark'])))\n",
    "\n",
    "solveQuadratic(a, b, c)\n"
   ]
  },
  {
   "cell_type": "code",
   "execution_count": null,
   "id": "0bb842a7",
   "metadata": {},
   "outputs": [],
   "source": []
  }
 ],
 "metadata": {
  "kernelspec": {
   "display_name": "Python 3 (ipykernel)",
   "language": "python",
   "name": "python3"
  },
  "language_info": {
   "codemirror_mode": {
    "name": "ipython",
    "version": 3
   },
   "file_extension": ".py",
   "mimetype": "text/x-python",
   "name": "python",
   "nbconvert_exporter": "python",
   "pygments_lexer": "ipython3",
   "version": "3.11.3"
  }
 },
 "nbformat": 4,
 "nbformat_minor": 5
}
