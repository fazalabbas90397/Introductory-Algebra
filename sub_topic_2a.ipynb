{
 "cells": [
  {
   "cell_type": "markdown",
   "id": "590decc4",
   "metadata": {},
   "source": [
    "# Simultaneous Equations\n",
    "<b>What is a set of simultaneous equations?<b>\n",
    "<br>A set of simultaneous equations is also known as a system of equations\n",
    "\n",
    "<br>A set of simultaneous equations looks like this:\n",
    "<br>$2x + 4y = 100$\n",
    "<br>$5x – 2y = 64$\n",
    "\n",
    "## Concept of Simultaneous Equations:    \n",
    "    \n",
    "<br>Normally it is not possible to solve an equations with more than one variable. However, in a set of simultaneous equations you have two or more equations about the same subject. Because they are about the same subject, it is possible to calculate the solutions.\n",
    "    <br>Simultaneous Equations are two equations, each with the same two unknowns, and require algebraic skills to find the character values of two or more equations. They are called Simultaneous Equations because the equations are solved together at the same time.\n",
    "\n",
    "### Types of Simultaneous Equations\n",
    " <br>The following are the method of solving Simultaneous Equations\n",
    " <br><b> [Elimination Method](EliminationMethod.ipynb) &nbsp;|&nbsp;\n",
    "<br><b>[Substitution Method](SubstitutionMethod.ipynb) &nbsp;|&nbsp;"
   ]
  }
 ],
 "metadata": {
  "kernelspec": {
   "display_name": "Python 3 (ipykernel)",
   "language": "python",
   "name": "python3"
  },
  "language_info": {
   "codemirror_mode": {
    "name": "ipython",
    "version": 3
   },
   "file_extension": ".py",
   "mimetype": "text/x-python",
   "name": "python",
   "nbconvert_exporter": "python",
   "pygments_lexer": "ipython3",
   "version": "3.11.3"
  }
 },
 "nbformat": 4,
 "nbformat_minor": 5
}
