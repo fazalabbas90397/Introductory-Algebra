{
 "cells": [
  {
   "cell_type": "markdown",
<<<<<<< HEAD
   "id": "5a7408a3",
=======
   "id": "178fdb89",
   "metadata": {},
   "source": []
  },
  {
   "cell_type": "code",
   "execution_count": null,
   "id": "7426b992",
>>>>>>> 9c4ca219642a49cde6addc692d3bc782640804ad
   "metadata": {},
   "source": [
    "# Simultaneous Equations\n",
    "\n",
    "<b>What is a set of simultaneous equations?</b>\n",
    "<br>A set of simultaneous equations is also known as a system of equations\n",
    "\n",
    "A set of simultaneous equations looks like this:\n",
    "<br>$2x + 4y = 100$\n",
    " <br>$5x – 2y = 64$\n",
    "\n",
    "Normally it is not possible to solve an equations with more than one variable. However, in a set of simultaneous equations you have two or more equations about the same subject. Because they are about the same subject, it is possible to calculate the solutions. \n",
    "## Understanding Simultaneous Equations:\n",
    "<br>Simultaneous Equations are two equations, each with the same two unknowns, and require algebraic skills to find the character values of two or more equations. They are called Simultaneous Equations because the equations are solved together at the same time.\n",
    "\n",
    "### Types Of Simultaneous Equations :\n",
    "There are mainly two types of simultaneous equations \n",
    "<br><b>Elimination Method.</b>\n",
    "<br><b>Substitution Method.</b>\n",
    "<br>These methods will be disscussed in further topics"
   ]
  },
  {
   "cell_type": "code",
   "execution_count": null,
   "id": "99380ab2",
   "metadata": {},
   "outputs": [],
   "source": []
  }
 ],
 "metadata": {
  "kernelspec": {
   "display_name": "Python 3 (ipykernel)",
   "language": "python",
   "name": "python3"
  },
  "language_info": {
   "codemirror_mode": {
    "name": "ipython",
    "version": 3
   },
   "file_extension": ".py",
   "mimetype": "text/x-python",
   "name": "python",
   "nbconvert_exporter": "python",
   "pygments_lexer": "ipython3",
   "version": "3.11.3"
  }
 },
 "nbformat": 4,
 "nbformat_minor": 5
}
