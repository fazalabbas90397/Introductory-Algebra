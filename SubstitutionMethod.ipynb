{
 "cells": [
  {
   "cell_type": "markdown",
   "id": "0075cffc",
   "metadata": {},
   "source": [
    "# Solving Simultaneous Equations Using Substitution Method<br>\n",
    "## Example No. 1:\n",
    "\n",
    "$2x + 3y = 13$  &nbsp; &nbsp; &nbsp; --(1)<br>\n",
    "$x + 5y = -4$  &nbsp; &nbsp; &nbsp;  --(2)"
   ]
  },
  {
   "cell_type": "markdown",
   "id": "dc0151b0",
   "metadata": {},
   "source": [
    "### Solution:\n",
    "<i>The first step is to look for a variable that is easy to isolate. In other words, does one of the variables have a coefficient of 1? Yes, that variable is $x$ the \n",
    "in the second equation. So, start by isolating or solving for $x$ </i>\n",
    "<br>$x= -5y -4$\n",
    "<br><i>This expression can be used to replace the $x$\n",
    " in the other equation (1) and solve for $y$:</i>\n",
    "\n",
    "\n",
    "\n"
   ]
  },
  {
   "cell_type": "markdown",
   "id": "f235359d",
   "metadata": {},
   "source": [
    "$2(-5y -4) + 3y=13$ <br>\n",
    "$-10y -8 +3=13$ <br>\n",
    "$-7y -8= 13$ <br>\n",
    "$-7y =21$ <br>\n",
    "<div style=\"border: 1px solid black; padding: 5px; display: inline-block;\">\n",
    "$y=-3$ </div>"
   ]
  },
  {
   "cell_type": "markdown",
   "id": "cc24dfc0",
   "metadata": {},
   "source": [
    "<i>Now that we have found $y$ we can put this value in our expression to find $x$</i> <br>\n",
    "$x= -5(-3) -4$ <br>\n",
    "$x=15-4$<br>\n",
    "<div style=\"border: 1px solid black; padding: 5px; display: inline-block;\">\n",
    "$x=11$ </div>\n",
    "\n",
    "\n"
   ]
  },
  {
   "cell_type": "markdown",
   "id": "dc4f129d",
   "metadata": {},
   "source": [
    "### Answer:\n",
    "<i><b>Solution of simultaneous equations<br></b></i>\n",
    "$2x + 3y = 13$<br>\n",
    "$x + 5y = -4$  <br><b>is</b>\n",
    "<div style=\"border: 1px solid black; padding: 5px; display: inline-block;\">\n",
    "$y=-3$ </div> and\n",
    "<div style=\"border: 1px solid black; padding: 5px; display: inline-block;\">\n",
    "$x=11$ </div>"
   ]
  },
  {
   "cell_type": "code",
   "execution_count": null,
   "id": "6f7f658d",
   "metadata": {},
   "outputs": [],
   "source": []
  },
  {
   "cell_type": "code",
   "execution_count": null,
   "id": "40db7bde",
   "metadata": {},
   "outputs": [],
   "source": []
  }
 ],
 "metadata": {
  "kernelspec": {
   "display_name": "Python 3 (ipykernel)",
   "language": "python",
   "name": "python3"
  },
  "language_info": {
   "codemirror_mode": {
    "name": "ipython",
    "version": 3
   },
   "file_extension": ".py",
   "mimetype": "text/x-python",
   "name": "python",
   "nbconvert_exporter": "python",
   "pygments_lexer": "ipython3",
   "version": "3.11.3"
  }
 },
 "nbformat": 4,
 "nbformat_minor": 5
}
