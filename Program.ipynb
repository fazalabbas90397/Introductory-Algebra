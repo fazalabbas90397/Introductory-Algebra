{
 "cells": [
  {
   "cell_type": "code",
   "execution_count": 7,
   "id": "100600b2",
   "metadata": {},
   "outputs": [
    {
     "ename": "IndentationError",
     "evalue": "expected an indented block after function definition on line 3 (2024541854.py, line 8)",
     "output_type": "error",
     "traceback": [
      "\u001b[1;36m  Cell \u001b[1;32mIn[7], line 8\u001b[1;36m\u001b[0m\n\u001b[1;33m    print(\"Enter the coefficients of the variables (ax + by = c):\")\u001b[0m\n\u001b[1;37m    ^\u001b[0m\n\u001b[1;31mIndentationError\u001b[0m\u001b[1;31m:\u001b[0m expected an indented block after function definition on line 3\n"
     ]
    }
   ],
   "source": [
    "import numpy as np\n",
    "\n",
    "def solve_linear_equations(coefficients, constants):\n",
    "    # (The same as before)\n",
    "\n",
    "# Get user input for coefficients\n",
    "\n",
    "print(\"Enter the coefficients of the variables (ax + by = c):\")\n",
    "a = float(input(\"Enter the value of 'a': \"))\n",
    "b = float(input(\"Enter the value of 'b': \"))\n",
    "\n",
    "# Get user input for constants\n",
    "print(\"\\nEnter the constants on the right-hand side of the equations:\")\n",
    "c1 = float(input(\"Enter the value of the first constant: \"))\n",
    "c2 = float(input(\"Enter the value of the second constant: \"))\n",
    "\n",
    "# Create the coefficient matrix and constant matrix\n",
    "coefficients = np.array([[a, b], [c1, c2]])\n",
    "constants = np.array([c1, c2])\n",
    "\n",
    "# Solve the equations and display the result\n",
    "solutions = solve_linear_equations(coefficients, constants)\n",
    "\n",
    "if solutions is not None:\n",
    "    x, y = solutions\n",
    "print(\"\\nSolution: x =\", x, \", y =\", y)\n",
    "else:\n",
    "print(\"\\nThe system of equations has no unique solution.\")\n"
   ]
  },
  {
   "cell_type": "code",
   "execution_count": null,
   "id": "a682c41f",
   "metadata": {},
   "outputs": [],
   "source": []
  },
  {
   "cell_type": "code",
   "execution_count": null,
   "id": "3149f18c",
   "metadata": {},
   "outputs": [],
   "source": []
  }
 ],
 "metadata": {
  "kernelspec": {
   "display_name": "Python 3 (ipykernel)",
   "language": "python",
   "name": "python3"
  },
  "language_info": {
   "codemirror_mode": {
    "name": "ipython",
    "version": 3
   },
   "file_extension": ".py",
   "mimetype": "text/x-python",
   "name": "python",
   "nbconvert_exporter": "python",
   "pygments_lexer": "ipython3",
   "version": "3.11.3"
  }
 },
 "nbformat": 4,
 "nbformat_minor": 5
}
